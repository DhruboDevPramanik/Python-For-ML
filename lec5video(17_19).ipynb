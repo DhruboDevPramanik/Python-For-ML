{
  "nbformat": 4,
  "nbformat_minor": 0,
  "metadata": {
    "colab": {
      "provenance": [],
      "authorship_tag": "ABX9TyMXySBuwNF3NJ5qJ1RSeSEU",
      "include_colab_link": true
    },
    "kernelspec": {
      "name": "python3",
      "display_name": "Python 3"
    },
    "language_info": {
      "name": "python"
    }
  },
  "cells": [
    {
      "cell_type": "markdown",
      "metadata": {
        "id": "view-in-github",
        "colab_type": "text"
      },
      "source": [
        "<a href=\"https://colab.research.google.com/github/DhruboDevPramanik/Machine_Learning_Course/blob/Python_for_ML/lec5video(17_19).ipynb\" target=\"_parent\"><img src=\"https://colab.research.google.com/assets/colab-badge.svg\" alt=\"Open In Colab\"/></a>"
      ]
    },
    {
      "cell_type": "code",
      "execution_count": null,
      "metadata": {
        "colab": {
          "base_uri": "https://localhost:8080/"
        },
        "id": "hRBf8EkrVKL6",
        "outputId": "97ce2a1f-87bb-48b7-fe22-f02034e747fe"
      },
      "outputs": [
        {
          "output_type": "stream",
          "name": "stdout",
          "text": [
            "black\n"
          ]
        }
      ],
      "source": [
        "class Car :\n",
        "  #constrains:\n",
        "  def __init__(self,tayer,windows,color):\n",
        "    self.tayer =tayer\n",
        "    self.windows=windows\n",
        "    self.color=color\n",
        "\n",
        "\n",
        "car1=Car(4,5,'black')\n",
        "car2=Car(3,1,'red')\n",
        "print(car1.color)"
      ]
    },
    {
      "cell_type": "code",
      "source": [
        "class Car :\n",
        "    #constrains:\n",
        "  def __init__(self,tayer,windows,color):\n",
        "    self.tayer =tayer\n",
        "    self.windows=windows\n",
        "    self.color=color\n",
        "\n",
        "    #it is mathods/fuctionality here self can take all the values from the previous contrains\n",
        "  def self_driving(self):\n",
        "    return \"this is a {} car\".format(self.color)\n",
        "\n",
        "\n",
        "car1=Car(4,5,'black')\n",
        "car2=Car(3,1,'red')\n",
        "print(car1.self_driving())"
      ],
      "metadata": {
        "colab": {
          "base_uri": "https://localhost:8080/"
        },
        "id": "Z8-1LmGu27QN",
        "outputId": "91b131a5-5a41-4a97-8a6b-947179b367f6"
      },
      "execution_count": null,
      "outputs": [
        {
          "output_type": "stream",
          "name": "stdout",
          "text": [
            "this is a black car\n"
          ]
        }
      ]
    },
    {
      "cell_type": "code",
      "source": [
        "class Car :\n",
        "  def __init__(self,tayer,windows,color):\n",
        "    self.tayer =tayer\n",
        "    self.windows=windows\n",
        "    self.color=color\n",
        "\n",
        "    #it is mathods/fuctionality here self can take all the values from the previous contrains. and the attribut take another parameters also\n",
        "  def self_driving(self,how):\n",
        "    return \"this is a {} car {}\".format(self.color,how)\n",
        "\n",
        "\n",
        "car1=Car(4,5,'black')\n",
        "car2=Car(3,1,'red')\n",
        "print(car1.self_driving('perfectly'))"
      ],
      "metadata": {
        "colab": {
          "base_uri": "https://localhost:8080/"
        },
        "id": "5fKq-g_5ViIn",
        "outputId": "d8374285-1526-4474-8d27-958f577d0648"
      },
      "execution_count": null,
      "outputs": [
        {
          "output_type": "stream",
          "name": "stdout",
          "text": [
            "this is a black car perfectly\n"
          ]
        }
      ]
    },
    {
      "cell_type": "markdown",
      "source": [
        "# multiple constracters in one class"
      ],
      "metadata": {
        "id": "5CF04aDc_Sq0"
      }
    },
    {
      "cell_type": "code",
      "source": [
        "class animal :\n",
        "\n",
        "\n",
        "  def __init__ (self,leg,color):\n",
        "    self.leg=leg\n",
        "    self.color=color\n",
        "\n",
        "\n",
        "  def __init__ (self,leg,color,hand):\n",
        "    self.leg=leg\n",
        "    self.color=color\n",
        "    self.hand=hand\n",
        "\n",
        "\n",
        "\n",
        "man=animal(5,\"black\")\n",
        "print(man.color)"
      ],
      "metadata": {
        "colab": {
          "base_uri": "https://localhost:8080/",
          "height": 193
        },
        "id": "vnHxsKhJ_Y3E",
        "outputId": "4faf423f-05ee-4407-e275-ba53814db46c"
      },
      "execution_count": null,
      "outputs": [
        {
          "output_type": "error",
          "ename": "TypeError",
          "evalue": "animal.__init__() missing 1 required positional argument: 'hand'",
          "traceback": [
            "\u001b[0;31m---------------------------------------------------------------------------\u001b[0m",
            "\u001b[0;31mTypeError\u001b[0m                                 Traceback (most recent call last)",
            "\u001b[0;32m/tmp/ipython-input-6-1766007956.py\u001b[0m in \u001b[0;36m<cell line: 0>\u001b[0;34m()\u001b[0m\n\u001b[1;32m     14\u001b[0m \u001b[0;34m\u001b[0m\u001b[0m\n\u001b[1;32m     15\u001b[0m \u001b[0;34m\u001b[0m\u001b[0m\n\u001b[0;32m---> 16\u001b[0;31m \u001b[0mman\u001b[0m\u001b[0;34m=\u001b[0m\u001b[0manimal\u001b[0m\u001b[0;34m(\u001b[0m\u001b[0;36m5\u001b[0m\u001b[0;34m,\u001b[0m\u001b[0;34m\"black\"\u001b[0m\u001b[0;34m)\u001b[0m\u001b[0;34m\u001b[0m\u001b[0;34m\u001b[0m\u001b[0m\n\u001b[0m\u001b[1;32m     17\u001b[0m \u001b[0mprint\u001b[0m\u001b[0;34m(\u001b[0m\u001b[0mman\u001b[0m\u001b[0;34m.\u001b[0m\u001b[0mcolor\u001b[0m\u001b[0;34m)\u001b[0m\u001b[0;34m\u001b[0m\u001b[0;34m\u001b[0m\u001b[0m\n",
            "\u001b[0;31mTypeError\u001b[0m: animal.__init__() missing 1 required positional argument: 'hand'"
          ]
        }
      ]
    },
    {
      "cell_type": "markdown",
      "source": [
        "it overwrites the constractor. so it can be done by args:\n"
      ],
      "metadata": {
        "id": "-bI1AqhzAy8o"
      }
    },
    {
      "cell_type": "code",
      "source": [
        "class animal :\n",
        "  def __init__ (self,*args):\n",
        "    if len(args)==2:\n",
        "      self.leg=args[0]\n",
        "      self.color=args[1]\n",
        "    if len(args)==3:\n",
        "      self.leg=args[0]\n",
        "      self.color=args[1]\n",
        "      self.hand=args[2]\n",
        "man=animal(5,\"black\")\n",
        "print(man.color)"
      ],
      "metadata": {
        "colab": {
          "base_uri": "https://localhost:8080/"
        },
        "id": "MSKVlC6MA9Q5",
        "outputId": "6ef389d6-8164-4d60-cf46-225a907f3483"
      },
      "execution_count": null,
      "outputs": [
        {
          "output_type": "stream",
          "name": "stdout",
          "text": [
            "black\n"
          ]
        }
      ]
    },
    {
      "cell_type": "markdown",
      "source": [
        "# inrehitance in python:"
      ],
      "metadata": {
        "id": "WQsjXf6eDU8V"
      }
    },
    {
      "cell_type": "code",
      "source": [
        "class Car :\n",
        "  #constrains:\n",
        "  def __init__(self,tayer,windows,color):\n",
        "    self.tayer =tayer\n",
        "    self.windows=windows\n",
        "    self.color=color\n",
        "class Tesla(Car):\n",
        "  def __init__(self,tayer,windows,color,selfdriving):\n",
        "    super().__init__(tayer,windows,color)\n",
        "    self.selfdriving=selfdriving\n",
        "\n",
        "tesla12=Tesla(4,5,'black',True)\n",
        "print(tesla12.selfdriving)\n",
        "print(tesla12.tayer)\n",
        "\n",
        "car1=Car(4,5,'black')\n",
        "print(car1.color)\n",
        "print(car1.tayer)\n",
        "\n",
        "print(tesla12)\n",
        "print(car1)\n",
        "\n",
        "print(dir(tesla12))\n",
        "print(dir(car1))"
      ],
      "metadata": {
        "colab": {
          "base_uri": "https://localhost:8080/"
        },
        "id": "eKU7uB8VDb-C",
        "outputId": "0e0eecea-10ae-4e8f-9857-0b9667d87ddc"
      },
      "execution_count": null,
      "outputs": [
        {
          "output_type": "stream",
          "name": "stdout",
          "text": [
            "True\n",
            "4\n",
            "black\n",
            "4\n",
            "<__main__.Tesla object at 0x7b2995f3bcd0>\n",
            "<__main__.Car object at 0x7b2995f557d0>\n",
            "['__class__', '__delattr__', '__dict__', '__dir__', '__doc__', '__eq__', '__format__', '__ge__', '__getattribute__', '__getstate__', '__gt__', '__hash__', '__init__', '__init_subclass__', '__le__', '__lt__', '__module__', '__ne__', '__new__', '__reduce__', '__reduce_ex__', '__repr__', '__setattr__', '__sizeof__', '__str__', '__subclasshook__', '__weakref__', 'color', 'selfdriving', 'tayer', 'windows']\n",
            "['__class__', '__delattr__', '__dict__', '__dir__', '__doc__', '__eq__', '__format__', '__ge__', '__getattribute__', '__getstate__', '__gt__', '__hash__', '__init__', '__init_subclass__', '__le__', '__lt__', '__module__', '__ne__', '__new__', '__reduce__', '__reduce_ex__', '__repr__', '__setattr__', '__sizeof__', '__str__', '__subclasshook__', '__weakref__', 'color', 'tayer', 'windows']\n"
          ]
        }
      ]
    },
    {
      "cell_type": "markdown",
      "source": [
        "# Now we will do it by dataclass:"
      ],
      "metadata": {
        "id": "ScXvXDQ8bxcz"
      }
    },
    {
      "cell_type": "code",
      "source": [
        "from dataclasses import dataclass"
      ],
      "metadata": {
        "id": "f1mbOsJ0b5lE"
      },
      "execution_count": 1,
      "outputs": []
    },
    {
      "cell_type": "code",
      "source": [
        "@dataclass\n",
        "class Car :\n",
        "  tayer :int\n",
        "  windows:int\n",
        "  color:str\n",
        "\n",
        "car1=Car(4,5,'black')\n",
        "car2=Car(3,1,'red')\n",
        "print(car1.color)"
      ],
      "metadata": {
        "id": "IicH5a-1cVMd",
        "outputId": "c4d7f237-5cc8-4aa9-c09d-609a94be8f8a",
        "colab": {
          "base_uri": "https://localhost:8080/"
        }
      },
      "execution_count": 4,
      "outputs": [
        {
          "output_type": "stream",
          "name": "stdout",
          "text": [
            "black\n"
          ]
        }
      ]
    },
    {
      "cell_type": "markdown",
      "source": [
        "now we will see the inheritance in dataclass:\n"
      ],
      "metadata": {
        "id": "NFt8pBLWczOX"
      }
    },
    {
      "cell_type": "code",
      "source": [
        "@dataclass\n",
        "class Car :\n",
        "  tayer :int\n",
        "  windows:int\n",
        "  color:str\n",
        "\n",
        "@dataclass\n",
        "class Tesla(Car):\n",
        "  selfdriving:bool\n",
        "\n",
        "\n",
        "tesla12=Tesla(4,5,'black',True)\n",
        "print(tesla12.selfdriving)\n",
        "print(tesla12.tayer)"
      ],
      "metadata": {
        "id": "I5i_VEBDc5R5",
        "outputId": "8c9c2de4-bc4a-4280-de1b-efe852062ed8",
        "colab": {
          "base_uri": "https://localhost:8080/"
        }
      },
      "execution_count": 5,
      "outputs": [
        {
          "output_type": "stream",
          "name": "stdout",
          "text": [
            "True\n",
            "4\n"
          ]
        }
      ]
    },
    {
      "cell_type": "markdown",
      "source": [
        "nested dataclass:\n"
      ],
      "metadata": {
        "id": "gtvEAEnNdhGO"
      }
    },
    {
      "cell_type": "code",
      "source": [
        "@dataclass\n",
        "class Address:\n",
        "    street:str\n",
        "    city:str\n",
        "    zip_code:str\n",
        "\n",
        "@dataclass\n",
        "class Person:\n",
        "    name:str\n",
        "    age:str\n",
        "    address:Address\n",
        "\n",
        "address=Address('123 Rabindra','Dhaka','12345')\n",
        "person=Person(\"Dhrubo\",31,address)\n",
        "print(person.address.city)"
      ],
      "metadata": {
        "id": "LzfIpIoGeyTj",
        "outputId": "e4043860-cfb7-4d22-fe18-bcbfe6a71059",
        "colab": {
          "base_uri": "https://localhost:8080/"
        }
      },
      "execution_count": 11,
      "outputs": [
        {
          "output_type": "stream",
          "name": "stdout",
          "text": [
            "Dhaka\n"
          ]
        }
      ]
    },
    {
      "cell_type": "code",
      "source": [
        "@dataclass\n",
        "class Student:\n",
        "  roll:int\n",
        "  Classs:int\n",
        "\n",
        "@dataclass\n",
        "class Person:\n",
        "  name:str\n",
        "  profession:Student\n",
        "\n",
        "student1=Student(1,12)\n",
        "person=Person(\"Dhrubo\",student1)\n",
        "print(person.profession.Classs)\n",
        "\n",
        "\n"
      ],
      "metadata": {
        "id": "jgGafBCednIj",
        "outputId": "3eb4cb37-2a04-4576-9849-ea2bc5f06dbd",
        "colab": {
          "base_uri": "https://localhost:8080/"
        }
      },
      "execution_count": 6,
      "outputs": [
        {
          "output_type": "stream",
          "name": "stdout",
          "text": [
            "12\n"
          ]
        }
      ]
    }
  ]
}