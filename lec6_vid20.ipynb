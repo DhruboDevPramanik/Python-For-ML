{
  "nbformat": 4,
  "nbformat_minor": 0,
  "metadata": {
    "colab": {
      "provenance": [],
      "authorship_tag": "ABX9TyNuixiNPoGwCP6uEFTxKdQH",
      "include_colab_link": true
    },
    "kernelspec": {
      "name": "python3",
      "display_name": "Python 3"
    },
    "language_info": {
      "name": "python"
    }
  },
  "cells": [
    {
      "cell_type": "markdown",
      "metadata": {
        "id": "view-in-github",
        "colab_type": "text"
      },
      "source": [
        "<a href=\"https://colab.research.google.com/github/DhruboDevPramanik/Machine_Learning_Course/blob/Python_for_ML/lec6_vid20.ipynb\" target=\"_parent\"><img src=\"https://colab.research.google.com/assets/colab-badge.svg\" alt=\"Open In Colab\"/></a>"
      ]
    },
    {
      "cell_type": "code",
      "execution_count": null,
      "metadata": {
        "colab": {
          "base_uri": "https://localhost:8080/"
        },
        "id": "qgN0OW54HTa0",
        "outputId": "31d69a21-de7a-49ce-aa0b-a3f816b28568"
      },
      "outputs": [
        {
          "output_type": "stream",
          "name": "stdout",
          "text": [
            "[1, 2, 3, 4, 5]\n"
          ]
        },
        {
          "output_type": "execute_result",
          "data": {
            "text/plain": [
              "2"
            ]
          },
          "metadata": {},
          "execution_count": 15
        }
      ],
      "source": [
        "list=[1,2,3,4,5]\n",
        "print(list)\n",
        "list[1]"
      ]
    },
    {
      "cell_type": "code",
      "source": [],
      "metadata": {
        "id": "oDEc6TcbZ5il"
      },
      "execution_count": null,
      "outputs": []
    },
    {
      "cell_type": "code",
      "source": [
        "list=[1,2,3,4,5]\n",
        "for i in range(0,5):\n",
        "     print(list[i])"
      ],
      "metadata": {
        "colab": {
          "base_uri": "https://localhost:8080/"
        },
        "id": "WnxCss_wIYZB",
        "outputId": "f26154d7-49f9-4336-d7e9-92e636366ac8"
      },
      "execution_count": null,
      "outputs": [
        {
          "output_type": "stream",
          "name": "stdout",
          "text": [
            "1\n",
            "2\n",
            "3\n",
            "4\n",
            "5\n"
          ]
        }
      ]
    },
    {
      "cell_type": "code",
      "source": [
        "list=[1,2,3,4,5]\n",
        "for i in list :\n",
        "  print(i)"
      ],
      "metadata": {
        "colab": {
          "base_uri": "https://localhost:8080/"
        },
        "id": "QYV7yHLiJFwD",
        "outputId": "12a429b7-86f7-413f-b61b-5ddc3877d8a5"
      },
      "execution_count": null,
      "outputs": [
        {
          "output_type": "stream",
          "name": "stdout",
          "text": [
            "1\n",
            "2\n",
            "3\n",
            "4\n",
            "5\n"
          ]
        }
      ]
    },
    {
      "cell_type": "code",
      "source": [
        "list=[1,2,3,4,5]\n",
        "list2=[]\n",
        "for i in list :\n",
        "  list2.append(i)\n",
        "  print(list2)"
      ],
      "metadata": {
        "colab": {
          "base_uri": "https://localhost:8080/"
        },
        "id": "emXwvgbtJO8u",
        "outputId": "2dfb61db-87c4-4c8e-a915-4a357185eb67"
      },
      "execution_count": null,
      "outputs": [
        {
          "output_type": "stream",
          "name": "stdout",
          "text": [
            "[1]\n",
            "[1, 2]\n",
            "[1, 2, 3]\n",
            "[1, 2, 3, 4]\n",
            "[1, 2, 3, 4, 5]\n"
          ]
        }
      ]
    },
    {
      "cell_type": "code",
      "source": [
        "lst=[1,2,3,4,5]\n",
        "lst2=[]\n",
        "for i in lst:\n",
        "    lst2.append(i**2)\n",
        "\n",
        "print(lst2)"
      ],
      "metadata": {
        "colab": {
          "base_uri": "https://localhost:8080/"
        },
        "id": "3hesUMP8Iuzy",
        "outputId": "dcc98d82-d91e-4dc3-ced1-29512416759d"
      },
      "execution_count": null,
      "outputs": [
        {
          "output_type": "stream",
          "name": "stdout",
          "text": [
            "[1, 4, 9, 16, 25]\n"
          ]
        }
      ]
    },
    {
      "cell_type": "code",
      "source": [],
      "metadata": {
        "id": "a-WvvHy1J6U5"
      },
      "execution_count": null,
      "outputs": []
    },
    {
      "cell_type": "markdown",
      "source": [
        "# now will do it by Comprehesion :"
      ],
      "metadata": {
        "id": "rJdVtSb5J9Cf"
      }
    },
    {
      "cell_type": "code",
      "source": [
        "lst=[1,2,3,4,5,6]\n",
        "lst2=[]\n",
        "lst2=[i**2 for i in list]\n",
        "print(lst2)"
      ],
      "metadata": {
        "colab": {
          "base_uri": "https://localhost:8080/"
        },
        "id": "qq3wHKqbJ-2N",
        "outputId": "51721be2-9db9-4f05-e7fd-0f418956e6f8"
      },
      "execution_count": null,
      "outputs": [
        {
          "output_type": "stream",
          "name": "stdout",
          "text": [
            "[1, 4, 9, 16, 25]\n"
          ]
        }
      ]
    },
    {
      "cell_type": "code",
      "source": [
        "#filtering the even numbers in the list:\n",
        "lst=[1,2,3,4,5,6,7,8,9,10]\n",
        "lst2=[]\n",
        "lst2=[i for i in lst if i%2==0]\n",
        "print(lst2)"
      ],
      "metadata": {
        "colab": {
          "base_uri": "https://localhost:8080/"
        },
        "id": "3iUJtwlgKUoW",
        "outputId": "862801c7-ec45-40cc-98f8-ba7779cb6a03"
      },
      "execution_count": null,
      "outputs": [
        {
          "output_type": "stream",
          "name": "stdout",
          "text": [
            "[2, 4, 6, 8, 10]\n"
          ]
        }
      ]
    },
    {
      "cell_type": "code",
      "source": [
        "#filtering the even numbers square in the list:\n",
        "lst=[1,2,3,4,5,6,7,8,9,10]\n",
        "lst2=[]\n",
        "lst2=[i**2 for i in lst if i%2==0]\n",
        "print(lst2)"
      ],
      "metadata": {
        "colab": {
          "base_uri": "https://localhost:8080/"
        },
        "id": "BepMiwn8KfYe",
        "outputId": "b2acc182-cfe0-40bf-9a01-d4b14c55d1c1"
      },
      "execution_count": null,
      "outputs": [
        {
          "output_type": "stream",
          "name": "stdout",
          "text": [
            "[4, 16, 36, 64, 100]\n"
          ]
        }
      ]
    },
    {
      "cell_type": "code",
      "source": [
        "##Flattening a list of lists: 2 for loops\n",
        "lists = [[1, 2, 3], [4, 5, 6], [7, 8, 9]]\n",
        "flattend_list=[item for sublist in lists for item in sublist ]\n",
        "print(flattend_list)"
      ],
      "metadata": {
        "colab": {
          "base_uri": "https://localhost:8080/"
        },
        "id": "VYRQnVMzKoK1",
        "outputId": "1701859d-146c-41e2-aa20-72a2dea44f28"
      },
      "execution_count": null,
      "outputs": [
        {
          "output_type": "stream",
          "name": "stdout",
          "text": [
            "[1, 2, 3, 4, 5, 6, 7, 8, 9]\n"
          ]
        }
      ]
    },
    {
      "cell_type": "code",
      "source": [
        "# Generating a list of the first letters of words in a list:\n",
        "words = ['apple', 'banana', 'cherry', 'date']\n",
        "first_letters=[word[0] for word in words]\n",
        "print(first_letters)"
      ],
      "metadata": {
        "colab": {
          "base_uri": "https://localhost:8080/"
        },
        "id": "ytRUf18SKuso",
        "outputId": "87b7842d-b10b-41a6-f905-c1b3fc861a84"
      },
      "execution_count": null,
      "outputs": [
        {
          "output_type": "stream",
          "name": "stdout",
          "text": [
            "['a', 'b', 'c', 'd']\n"
          ]
        }
      ]
    },
    {
      "cell_type": "code",
      "source": [
        "## Converting a list of strings to a list of integers\n",
        "strings = ['1', '2', '3', '4', '5']\n",
        "[int(s) for s in strings]"
      ],
      "metadata": {
        "colab": {
          "base_uri": "https://localhost:8080/"
        },
        "id": "4S-4o_OAKyQM",
        "outputId": "b04ef348-ac5a-47a2-9a2d-a209525c44e0"
      },
      "execution_count": null,
      "outputs": [
        {
          "output_type": "execute_result",
          "data": {
            "text/plain": [
              "[1, 2, 3, 4, 5]"
            ]
          },
          "metadata": {},
          "execution_count": 26
        }
      ]
    },
    {
      "cell_type": "code",
      "source": [
        "#list of all devisor:\n",
        "lst=[]\n",
        "num=36\n",
        "lst=[i for i in range(1,num+1) if num%i==0]\n",
        "print(lst)"
      ],
      "metadata": {
        "colab": {
          "base_uri": "https://localhost:8080/"
        },
        "id": "o-oWFCyGK0Fn",
        "outputId": "ddfe65a4-361d-46bc-a380-adef3c07f597"
      },
      "execution_count": null,
      "outputs": [
        {
          "output_type": "stream",
          "name": "stdout",
          "text": [
            "[1, 2, 3, 4, 6, 9, 12, 18, 36]\n"
          ]
        }
      ]
    },
    {
      "cell_type": "code",
      "source": [
        "hi"
      ],
      "metadata": {
        "id": "4qfWk1wcZ7PQ"
      },
      "execution_count": null,
      "outputs": []
    }
  ]
}